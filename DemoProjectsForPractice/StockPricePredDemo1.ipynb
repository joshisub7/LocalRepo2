{
 "cells": [
  {
   "cell_type": "code",
   "execution_count": 115,
   "id": "03caddc0",
   "metadata": {},
   "outputs": [],
   "source": [
    "import numpy as np\n",
    "from keras.models import Sequential\n",
    "from keras.layers import LSTM\n",
    "from keras.layers import Dense, Dropout\n",
    "import pandas as pd\n",
    "from matplotlib import pyplot as plt\n",
    "from sklearn.preprocessing import StandardScaler\n",
    "import seaborn as sns"
   ]
  },
  {
   "cell_type": "code",
   "execution_count": 116,
   "id": "f6f7bda4",
   "metadata": {},
   "outputs": [],
   "source": [
    "df = pd.read_csv('E:/AI Practice/Dataset/GE.csv',index_col='Date')"
   ]
  },
  {
   "cell_type": "code",
   "execution_count": 117,
   "id": "4e5c493d",
   "metadata": {},
   "outputs": [
    {
     "data": {
      "text/html": [
       "<div>\n",
       "<style scoped>\n",
       "    .dataframe tbody tr th:only-of-type {\n",
       "        vertical-align: middle;\n",
       "    }\n",
       "\n",
       "    .dataframe tbody tr th {\n",
       "        vertical-align: top;\n",
       "    }\n",
       "\n",
       "    .dataframe thead th {\n",
       "        text-align: right;\n",
       "    }\n",
       "</style>\n",
       "<table border=\"1\" class=\"dataframe\">\n",
       "  <thead>\n",
       "    <tr style=\"text-align: right;\">\n",
       "      <th></th>\n",
       "      <th>Open</th>\n",
       "      <th>High</th>\n",
       "      <th>Low</th>\n",
       "      <th>Close</th>\n",
       "      <th>Adj Close</th>\n",
       "      <th>Volume</th>\n",
       "    </tr>\n",
       "    <tr>\n",
       "      <th>Date</th>\n",
       "      <th></th>\n",
       "      <th></th>\n",
       "      <th></th>\n",
       "      <th></th>\n",
       "      <th></th>\n",
       "      <th></th>\n",
       "    </tr>\n",
       "  </thead>\n",
       "  <tbody>\n",
       "    <tr>\n",
       "      <th>2/27/2023</th>\n",
       "      <td>84.000000</td>\n",
       "      <td>84.860001</td>\n",
       "      <td>83.489998</td>\n",
       "      <td>83.839996</td>\n",
       "      <td>83.587776</td>\n",
       "      <td>6390500</td>\n",
       "    </tr>\n",
       "    <tr>\n",
       "      <th>2/28/2023</th>\n",
       "      <td>83.620003</td>\n",
       "      <td>85.650002</td>\n",
       "      <td>83.459999</td>\n",
       "      <td>84.709999</td>\n",
       "      <td>84.455154</td>\n",
       "      <td>9131000</td>\n",
       "    </tr>\n",
       "    <tr>\n",
       "      <th>3/1/2023</th>\n",
       "      <td>84.660004</td>\n",
       "      <td>85.360001</td>\n",
       "      <td>83.750000</td>\n",
       "      <td>84.139999</td>\n",
       "      <td>83.886871</td>\n",
       "      <td>5996000</td>\n",
       "    </tr>\n",
       "    <tr>\n",
       "      <th>3/2/2023</th>\n",
       "      <td>83.599998</td>\n",
       "      <td>85.730003</td>\n",
       "      <td>83.379997</td>\n",
       "      <td>85.720001</td>\n",
       "      <td>85.462120</td>\n",
       "      <td>6820700</td>\n",
       "    </tr>\n",
       "    <tr>\n",
       "      <th>3/3/2023</th>\n",
       "      <td>85.900002</td>\n",
       "      <td>87.040001</td>\n",
       "      <td>85.150002</td>\n",
       "      <td>86.379997</td>\n",
       "      <td>86.120132</td>\n",
       "      <td>7676600</td>\n",
       "    </tr>\n",
       "    <tr>\n",
       "      <th>...</th>\n",
       "      <td>...</td>\n",
       "      <td>...</td>\n",
       "      <td>...</td>\n",
       "      <td>...</td>\n",
       "      <td>...</td>\n",
       "      <td>...</td>\n",
       "    </tr>\n",
       "    <tr>\n",
       "      <th>2/16/2024</th>\n",
       "      <td>148.949997</td>\n",
       "      <td>150.360001</td>\n",
       "      <td>148.509995</td>\n",
       "      <td>149.160004</td>\n",
       "      <td>149.160004</td>\n",
       "      <td>6874700</td>\n",
       "    </tr>\n",
       "    <tr>\n",
       "      <th>2/20/2024</th>\n",
       "      <td>149.020004</td>\n",
       "      <td>150.339996</td>\n",
       "      <td>147.820007</td>\n",
       "      <td>148.619995</td>\n",
       "      <td>148.619995</td>\n",
       "      <td>5719100</td>\n",
       "    </tr>\n",
       "    <tr>\n",
       "      <th>2/21/2024</th>\n",
       "      <td>148.470001</td>\n",
       "      <td>149.389999</td>\n",
       "      <td>147.660004</td>\n",
       "      <td>149.070007</td>\n",
       "      <td>149.070007</td>\n",
       "      <td>4233700</td>\n",
       "    </tr>\n",
       "    <tr>\n",
       "      <th>2/22/2024</th>\n",
       "      <td>149.850006</td>\n",
       "      <td>152.250000</td>\n",
       "      <td>149.850006</td>\n",
       "      <td>151.669998</td>\n",
       "      <td>151.669998</td>\n",
       "      <td>4591400</td>\n",
       "    </tr>\n",
       "    <tr>\n",
       "      <th>2/23/2024</th>\n",
       "      <td>152.000000</td>\n",
       "      <td>153.800003</td>\n",
       "      <td>151.910004</td>\n",
       "      <td>153.330002</td>\n",
       "      <td>153.330002</td>\n",
       "      <td>5638900</td>\n",
       "    </tr>\n",
       "  </tbody>\n",
       "</table>\n",
       "<p>250 rows × 6 columns</p>\n",
       "</div>"
      ],
      "text/plain": [
       "                 Open        High         Low       Close   Adj Close   Volume\n",
       "Date                                                                          \n",
       "2/27/2023   84.000000   84.860001   83.489998   83.839996   83.587776  6390500\n",
       "2/28/2023   83.620003   85.650002   83.459999   84.709999   84.455154  9131000\n",
       "3/1/2023    84.660004   85.360001   83.750000   84.139999   83.886871  5996000\n",
       "3/2/2023    83.599998   85.730003   83.379997   85.720001   85.462120  6820700\n",
       "3/3/2023    85.900002   87.040001   85.150002   86.379997   86.120132  7676600\n",
       "...               ...         ...         ...         ...         ...      ...\n",
       "2/16/2024  148.949997  150.360001  148.509995  149.160004  149.160004  6874700\n",
       "2/20/2024  149.020004  150.339996  147.820007  148.619995  148.619995  5719100\n",
       "2/21/2024  148.470001  149.389999  147.660004  149.070007  149.070007  4233700\n",
       "2/22/2024  149.850006  152.250000  149.850006  151.669998  151.669998  4591400\n",
       "2/23/2024  152.000000  153.800003  151.910004  153.330002  153.330002  5638900\n",
       "\n",
       "[250 rows x 6 columns]"
      ]
     },
     "execution_count": 117,
     "metadata": {},
     "output_type": "execute_result"
    }
   ],
   "source": [
    "df"
   ]
  },
  {
   "cell_type": "code",
   "execution_count": 118,
   "id": "eb510775",
   "metadata": {},
   "outputs": [
    {
     "data": {
      "text/plain": [
       "Open         0\n",
       "High         0\n",
       "Low          0\n",
       "Close        0\n",
       "Adj Close    0\n",
       "Volume       0\n",
       "dtype: int64"
      ]
     },
     "execution_count": 118,
     "metadata": {},
     "output_type": "execute_result"
    }
   ],
   "source": [
    "df.isnull().sum()"
   ]
  },
  {
   "cell_type": "code",
   "execution_count": 119,
   "id": "907f8081",
   "metadata": {},
   "outputs": [],
   "source": [
    "df.index = pd.to_datetime(df.index)"
   ]
  },
  {
   "cell_type": "code",
   "execution_count": 120,
   "id": "a1ef6dff",
   "metadata": {},
   "outputs": [
    {
     "data": {
      "text/plain": [
       "DatetimeIndex(['2023-02-27', '2023-02-28', '2023-03-01', '2023-03-02',\n",
       "               '2023-03-03', '2023-03-06', '2023-03-07', '2023-03-08',\n",
       "               '2023-03-09', '2023-03-10',\n",
       "               ...\n",
       "               '2024-02-09', '2024-02-12', '2024-02-13', '2024-02-14',\n",
       "               '2024-02-15', '2024-02-16', '2024-02-20', '2024-02-21',\n",
       "               '2024-02-22', '2024-02-23'],\n",
       "              dtype='datetime64[ns]', name='Date', length=250, freq=None)"
      ]
     },
     "execution_count": 120,
     "metadata": {},
     "output_type": "execute_result"
    }
   ],
   "source": [
    "df.index"
   ]
  },
  {
   "cell_type": "code",
   "execution_count": 121,
   "id": "09262a0c",
   "metadata": {},
   "outputs": [],
   "source": [
    "cols = list(df)[0:5]"
   ]
  },
  {
   "cell_type": "code",
   "execution_count": 122,
   "id": "4f8e8c6a",
   "metadata": {},
   "outputs": [
    {
     "data": {
      "text/plain": [
       "['Open', 'High', 'Low', 'Close', 'Adj Close']"
      ]
     },
     "execution_count": 122,
     "metadata": {},
     "output_type": "execute_result"
    }
   ],
   "source": [
    "cols"
   ]
  },
  {
   "cell_type": "code",
   "execution_count": 123,
   "id": "4b4d0e7b",
   "metadata": {},
   "outputs": [],
   "source": [
    "df_for_training = df[cols].astype(float)"
   ]
  },
  {
   "cell_type": "code",
   "execution_count": 124,
   "id": "2db4774c",
   "metadata": {},
   "outputs": [
    {
     "data": {
      "text/html": [
       "<div>\n",
       "<style scoped>\n",
       "    .dataframe tbody tr th:only-of-type {\n",
       "        vertical-align: middle;\n",
       "    }\n",
       "\n",
       "    .dataframe tbody tr th {\n",
       "        vertical-align: top;\n",
       "    }\n",
       "\n",
       "    .dataframe thead th {\n",
       "        text-align: right;\n",
       "    }\n",
       "</style>\n",
       "<table border=\"1\" class=\"dataframe\">\n",
       "  <thead>\n",
       "    <tr style=\"text-align: right;\">\n",
       "      <th></th>\n",
       "      <th>Open</th>\n",
       "      <th>High</th>\n",
       "      <th>Low</th>\n",
       "      <th>Close</th>\n",
       "      <th>Adj Close</th>\n",
       "    </tr>\n",
       "    <tr>\n",
       "      <th>Date</th>\n",
       "      <th></th>\n",
       "      <th></th>\n",
       "      <th></th>\n",
       "      <th></th>\n",
       "      <th></th>\n",
       "    </tr>\n",
       "  </thead>\n",
       "  <tbody>\n",
       "    <tr>\n",
       "      <th>2023-02-27</th>\n",
       "      <td>84.000000</td>\n",
       "      <td>84.860001</td>\n",
       "      <td>83.489998</td>\n",
       "      <td>83.839996</td>\n",
       "      <td>83.587776</td>\n",
       "    </tr>\n",
       "    <tr>\n",
       "      <th>2023-02-28</th>\n",
       "      <td>83.620003</td>\n",
       "      <td>85.650002</td>\n",
       "      <td>83.459999</td>\n",
       "      <td>84.709999</td>\n",
       "      <td>84.455154</td>\n",
       "    </tr>\n",
       "    <tr>\n",
       "      <th>2023-03-01</th>\n",
       "      <td>84.660004</td>\n",
       "      <td>85.360001</td>\n",
       "      <td>83.750000</td>\n",
       "      <td>84.139999</td>\n",
       "      <td>83.886871</td>\n",
       "    </tr>\n",
       "    <tr>\n",
       "      <th>2023-03-02</th>\n",
       "      <td>83.599998</td>\n",
       "      <td>85.730003</td>\n",
       "      <td>83.379997</td>\n",
       "      <td>85.720001</td>\n",
       "      <td>85.462120</td>\n",
       "    </tr>\n",
       "    <tr>\n",
       "      <th>2023-03-03</th>\n",
       "      <td>85.900002</td>\n",
       "      <td>87.040001</td>\n",
       "      <td>85.150002</td>\n",
       "      <td>86.379997</td>\n",
       "      <td>86.120132</td>\n",
       "    </tr>\n",
       "    <tr>\n",
       "      <th>...</th>\n",
       "      <td>...</td>\n",
       "      <td>...</td>\n",
       "      <td>...</td>\n",
       "      <td>...</td>\n",
       "      <td>...</td>\n",
       "    </tr>\n",
       "    <tr>\n",
       "      <th>2024-02-16</th>\n",
       "      <td>148.949997</td>\n",
       "      <td>150.360001</td>\n",
       "      <td>148.509995</td>\n",
       "      <td>149.160004</td>\n",
       "      <td>149.160004</td>\n",
       "    </tr>\n",
       "    <tr>\n",
       "      <th>2024-02-20</th>\n",
       "      <td>149.020004</td>\n",
       "      <td>150.339996</td>\n",
       "      <td>147.820007</td>\n",
       "      <td>148.619995</td>\n",
       "      <td>148.619995</td>\n",
       "    </tr>\n",
       "    <tr>\n",
       "      <th>2024-02-21</th>\n",
       "      <td>148.470001</td>\n",
       "      <td>149.389999</td>\n",
       "      <td>147.660004</td>\n",
       "      <td>149.070007</td>\n",
       "      <td>149.070007</td>\n",
       "    </tr>\n",
       "    <tr>\n",
       "      <th>2024-02-22</th>\n",
       "      <td>149.850006</td>\n",
       "      <td>152.250000</td>\n",
       "      <td>149.850006</td>\n",
       "      <td>151.669998</td>\n",
       "      <td>151.669998</td>\n",
       "    </tr>\n",
       "    <tr>\n",
       "      <th>2024-02-23</th>\n",
       "      <td>152.000000</td>\n",
       "      <td>153.800003</td>\n",
       "      <td>151.910004</td>\n",
       "      <td>153.330002</td>\n",
       "      <td>153.330002</td>\n",
       "    </tr>\n",
       "  </tbody>\n",
       "</table>\n",
       "<p>250 rows × 5 columns</p>\n",
       "</div>"
      ],
      "text/plain": [
       "                  Open        High         Low       Close   Adj Close\n",
       "Date                                                                  \n",
       "2023-02-27   84.000000   84.860001   83.489998   83.839996   83.587776\n",
       "2023-02-28   83.620003   85.650002   83.459999   84.709999   84.455154\n",
       "2023-03-01   84.660004   85.360001   83.750000   84.139999   83.886871\n",
       "2023-03-02   83.599998   85.730003   83.379997   85.720001   85.462120\n",
       "2023-03-03   85.900002   87.040001   85.150002   86.379997   86.120132\n",
       "...                ...         ...         ...         ...         ...\n",
       "2024-02-16  148.949997  150.360001  148.509995  149.160004  149.160004\n",
       "2024-02-20  149.020004  150.339996  147.820007  148.619995  148.619995\n",
       "2024-02-21  148.470001  149.389999  147.660004  149.070007  149.070007\n",
       "2024-02-22  149.850006  152.250000  149.850006  151.669998  151.669998\n",
       "2024-02-23  152.000000  153.800003  151.910004  153.330002  153.330002\n",
       "\n",
       "[250 rows x 5 columns]"
      ]
     },
     "execution_count": 124,
     "metadata": {},
     "output_type": "execute_result"
    }
   ],
   "source": [
    "df_for_training"
   ]
  },
  {
   "cell_type": "code",
   "execution_count": 125,
   "id": "c066e8ba",
   "metadata": {},
   "outputs": [],
   "source": [
    "df_for_training = df.reset_index(drop=True)"
   ]
  },
  {
   "cell_type": "code",
   "execution_count": 126,
   "id": "3a15e2b8",
   "metadata": {},
   "outputs": [
    {
     "data": {
      "text/html": [
       "<div>\n",
       "<style scoped>\n",
       "    .dataframe tbody tr th:only-of-type {\n",
       "        vertical-align: middle;\n",
       "    }\n",
       "\n",
       "    .dataframe tbody tr th {\n",
       "        vertical-align: top;\n",
       "    }\n",
       "\n",
       "    .dataframe thead th {\n",
       "        text-align: right;\n",
       "    }\n",
       "</style>\n",
       "<table border=\"1\" class=\"dataframe\">\n",
       "  <thead>\n",
       "    <tr style=\"text-align: right;\">\n",
       "      <th></th>\n",
       "      <th>Open</th>\n",
       "      <th>High</th>\n",
       "      <th>Low</th>\n",
       "      <th>Close</th>\n",
       "      <th>Adj Close</th>\n",
       "      <th>Volume</th>\n",
       "    </tr>\n",
       "  </thead>\n",
       "  <tbody>\n",
       "    <tr>\n",
       "      <th>0</th>\n",
       "      <td>84.000000</td>\n",
       "      <td>84.860001</td>\n",
       "      <td>83.489998</td>\n",
       "      <td>83.839996</td>\n",
       "      <td>83.587776</td>\n",
       "      <td>6390500</td>\n",
       "    </tr>\n",
       "    <tr>\n",
       "      <th>1</th>\n",
       "      <td>83.620003</td>\n",
       "      <td>85.650002</td>\n",
       "      <td>83.459999</td>\n",
       "      <td>84.709999</td>\n",
       "      <td>84.455154</td>\n",
       "      <td>9131000</td>\n",
       "    </tr>\n",
       "    <tr>\n",
       "      <th>2</th>\n",
       "      <td>84.660004</td>\n",
       "      <td>85.360001</td>\n",
       "      <td>83.750000</td>\n",
       "      <td>84.139999</td>\n",
       "      <td>83.886871</td>\n",
       "      <td>5996000</td>\n",
       "    </tr>\n",
       "    <tr>\n",
       "      <th>3</th>\n",
       "      <td>83.599998</td>\n",
       "      <td>85.730003</td>\n",
       "      <td>83.379997</td>\n",
       "      <td>85.720001</td>\n",
       "      <td>85.462120</td>\n",
       "      <td>6820700</td>\n",
       "    </tr>\n",
       "    <tr>\n",
       "      <th>4</th>\n",
       "      <td>85.900002</td>\n",
       "      <td>87.040001</td>\n",
       "      <td>85.150002</td>\n",
       "      <td>86.379997</td>\n",
       "      <td>86.120132</td>\n",
       "      <td>7676600</td>\n",
       "    </tr>\n",
       "    <tr>\n",
       "      <th>...</th>\n",
       "      <td>...</td>\n",
       "      <td>...</td>\n",
       "      <td>...</td>\n",
       "      <td>...</td>\n",
       "      <td>...</td>\n",
       "      <td>...</td>\n",
       "    </tr>\n",
       "    <tr>\n",
       "      <th>245</th>\n",
       "      <td>148.949997</td>\n",
       "      <td>150.360001</td>\n",
       "      <td>148.509995</td>\n",
       "      <td>149.160004</td>\n",
       "      <td>149.160004</td>\n",
       "      <td>6874700</td>\n",
       "    </tr>\n",
       "    <tr>\n",
       "      <th>246</th>\n",
       "      <td>149.020004</td>\n",
       "      <td>150.339996</td>\n",
       "      <td>147.820007</td>\n",
       "      <td>148.619995</td>\n",
       "      <td>148.619995</td>\n",
       "      <td>5719100</td>\n",
       "    </tr>\n",
       "    <tr>\n",
       "      <th>247</th>\n",
       "      <td>148.470001</td>\n",
       "      <td>149.389999</td>\n",
       "      <td>147.660004</td>\n",
       "      <td>149.070007</td>\n",
       "      <td>149.070007</td>\n",
       "      <td>4233700</td>\n",
       "    </tr>\n",
       "    <tr>\n",
       "      <th>248</th>\n",
       "      <td>149.850006</td>\n",
       "      <td>152.250000</td>\n",
       "      <td>149.850006</td>\n",
       "      <td>151.669998</td>\n",
       "      <td>151.669998</td>\n",
       "      <td>4591400</td>\n",
       "    </tr>\n",
       "    <tr>\n",
       "      <th>249</th>\n",
       "      <td>152.000000</td>\n",
       "      <td>153.800003</td>\n",
       "      <td>151.910004</td>\n",
       "      <td>153.330002</td>\n",
       "      <td>153.330002</td>\n",
       "      <td>5638900</td>\n",
       "    </tr>\n",
       "  </tbody>\n",
       "</table>\n",
       "<p>250 rows × 6 columns</p>\n",
       "</div>"
      ],
      "text/plain": [
       "           Open        High         Low       Close   Adj Close   Volume\n",
       "0     84.000000   84.860001   83.489998   83.839996   83.587776  6390500\n",
       "1     83.620003   85.650002   83.459999   84.709999   84.455154  9131000\n",
       "2     84.660004   85.360001   83.750000   84.139999   83.886871  5996000\n",
       "3     83.599998   85.730003   83.379997   85.720001   85.462120  6820700\n",
       "4     85.900002   87.040001   85.150002   86.379997   86.120132  7676600\n",
       "..          ...         ...         ...         ...         ...      ...\n",
       "245  148.949997  150.360001  148.509995  149.160004  149.160004  6874700\n",
       "246  149.020004  150.339996  147.820007  148.619995  148.619995  5719100\n",
       "247  148.470001  149.389999  147.660004  149.070007  149.070007  4233700\n",
       "248  149.850006  152.250000  149.850006  151.669998  151.669998  4591400\n",
       "249  152.000000  153.800003  151.910004  153.330002  153.330002  5638900\n",
       "\n",
       "[250 rows x 6 columns]"
      ]
     },
     "execution_count": 126,
     "metadata": {},
     "output_type": "execute_result"
    }
   ],
   "source": [
    "df_for_training"
   ]
  },
  {
   "cell_type": "code",
   "execution_count": 127,
   "id": "6a98baf7",
   "metadata": {},
   "outputs": [],
   "source": [
    "scaler = StandardScaler()\n",
    "scaler = scaler.fit(df_for_training)\n",
    "df_for_training_scaled = scaler.transform(df_for_training)"
   ]
  },
  {
   "cell_type": "code",
   "execution_count": 128,
   "id": "9b12a4ec",
   "metadata": {},
   "outputs": [
    {
     "data": {
      "text/plain": [
       "array([[-2.03584142, -2.04771983, -2.00172806, -2.03738134, -2.03684862,\n",
       "         0.39024351],\n",
       "       [-2.06386274, -1.98977693, -2.00393677, -1.97395809, -1.97391298,\n",
       "         1.41299749],\n",
       "       [-1.98717214, -2.01104716, -1.98258511, -2.01551111, -2.01514674,\n",
       "         0.2430162 ],\n",
       "       ...,\n",
       "       [ 2.71823381,  2.68525517,  2.72286428,  2.71788884,  2.71444364,\n",
       "        -0.41467376],\n",
       "       [ 2.81999661,  2.89502293,  2.88410576,  2.90742828,  2.90309508,\n",
       "        -0.2811802 ],\n",
       "       [ 2.97853908,  3.00870844,  3.03577554,  3.02844263,  3.02354248,\n",
       "         0.10974656]])"
      ]
     },
     "execution_count": 128,
     "metadata": {},
     "output_type": "execute_result"
    }
   ],
   "source": [
    "df_for_training_scaled"
   ]
  },
  {
   "cell_type": "markdown",
   "id": "9bb83f18",
   "metadata": {},
   "source": [
    "# Initialize empty lists to store training data"
   ]
  },
  {
   "cell_type": "code",
   "execution_count": 129,
   "id": "44470db3",
   "metadata": {},
   "outputs": [],
   "source": [
    "trainX = []\n",
    "trainY = []"
   ]
  },
  {
   "cell_type": "code",
   "execution_count": 130,
   "id": "b365fedf",
   "metadata": {},
   "outputs": [],
   "source": [
    "n_future = 1\n",
    "n_past = 14"
   ]
  },
  {
   "cell_type": "code",
   "execution_count": 131,
   "id": "4e129ddb",
   "metadata": {},
   "outputs": [],
   "source": [
    "#x=len(df_for_training_scaled)\n",
    "#x"
   ]
  },
  {
   "cell_type": "code",
   "execution_count": 132,
   "id": "f441862f",
   "metadata": {},
   "outputs": [],
   "source": [
    "for i in range (n_past, len(df_for_training_scaled) - n_future+1):\n",
    "    trainX.append(df_for_training_scaled[i-n_past:i, 0:df_for_training_scaled.shape[1]])\n",
    "    trainY.append(df_for_training_scaled[i + n_future-1:i+n_future,0])"
   ]
  },
  {
   "cell_type": "code",
   "execution_count": 133,
   "id": "e7c77517",
   "metadata": {},
   "outputs": [
    {
     "name": "stdout",
     "output_type": "stream",
     "text": [
      "trainX shape == (236, 14, 6).\n",
      "trainY shape == (236, 1).\n"
     ]
    }
   ],
   "source": [
    "trainX, trainY = np.array(trainX), np.array(trainY)\n",
    "print('trainX shape == {}.'.format(trainX.shape))\n",
    "print('trainY shape == {}.'.format(trainY.shape))"
   ]
  },
  {
   "cell_type": "markdown",
   "id": "c3fff333",
   "metadata": {},
   "source": [
    "# define autoencoder model"
   ]
  },
  {
   "cell_type": "code",
   "execution_count": 134,
   "id": "416f0d8c",
   "metadata": {},
   "outputs": [
    {
     "name": "stderr",
     "output_type": "stream",
     "text": [
      "c:\\Users\\Acer\\AppData\\Local\\Programs\\Python\\Python312\\Lib\\site-packages\\keras\\src\\layers\\rnn\\rnn.py:205: UserWarning: Do not pass an `input_shape`/`input_dim` argument to a layer. When using Sequential models, prefer using an `Input(shape)` object as the first layer in the model instead.\n",
      "  super().__init__(**kwargs)\n"
     ]
    },
    {
     "data": {
      "text/html": [
       "<pre style=\"white-space:pre;overflow-x:auto;line-height:normal;font-family:Menlo,'DejaVu Sans Mono',consolas,'Courier New',monospace\"><span style=\"font-weight: bold\">Model: \"sequential_5\"</span>\n",
       "</pre>\n"
      ],
      "text/plain": [
       "\u001b[1mModel: \"sequential_5\"\u001b[0m\n"
      ]
     },
     "metadata": {},
     "output_type": "display_data"
    },
    {
     "data": {
      "text/html": [
       "<pre style=\"white-space:pre;overflow-x:auto;line-height:normal;font-family:Menlo,'DejaVu Sans Mono',consolas,'Courier New',monospace\">┏━━━━━━━━━━━━━━━━━━━━━━━━━━━━━━━━━┳━━━━━━━━━━━━━━━━━━━━━━━━┳━━━━━━━━━━━━━━━┓\n",
       "┃<span style=\"font-weight: bold\"> Layer (type)                    </span>┃<span style=\"font-weight: bold\"> Output Shape           </span>┃<span style=\"font-weight: bold\">       Param # </span>┃\n",
       "┡━━━━━━━━━━━━━━━━━━━━━━━━━━━━━━━━━╇━━━━━━━━━━━━━━━━━━━━━━━━╇━━━━━━━━━━━━━━━┩\n",
       "│ lstm_10 (<span style=\"color: #0087ff; text-decoration-color: #0087ff\">LSTM</span>)                  │ (<span style=\"color: #00d7ff; text-decoration-color: #00d7ff\">None</span>, <span style=\"color: #00af00; text-decoration-color: #00af00\">14</span>, <span style=\"color: #00af00; text-decoration-color: #00af00\">64</span>)         │        <span style=\"color: #00af00; text-decoration-color: #00af00\">18,176</span> │\n",
       "├─────────────────────────────────┼────────────────────────┼───────────────┤\n",
       "│ lstm_11 (<span style=\"color: #0087ff; text-decoration-color: #0087ff\">LSTM</span>)                  │ (<span style=\"color: #00d7ff; text-decoration-color: #00d7ff\">None</span>, <span style=\"color: #00af00; text-decoration-color: #00af00\">32</span>)             │        <span style=\"color: #00af00; text-decoration-color: #00af00\">12,416</span> │\n",
       "├─────────────────────────────────┼────────────────────────┼───────────────┤\n",
       "│ dropout_5 (<span style=\"color: #0087ff; text-decoration-color: #0087ff\">Dropout</span>)             │ (<span style=\"color: #00d7ff; text-decoration-color: #00d7ff\">None</span>, <span style=\"color: #00af00; text-decoration-color: #00af00\">32</span>)             │             <span style=\"color: #00af00; text-decoration-color: #00af00\">0</span> │\n",
       "├─────────────────────────────────┼────────────────────────┼───────────────┤\n",
       "│ dense_5 (<span style=\"color: #0087ff; text-decoration-color: #0087ff\">Dense</span>)                 │ (<span style=\"color: #00d7ff; text-decoration-color: #00d7ff\">None</span>, <span style=\"color: #00af00; text-decoration-color: #00af00\">1</span>)              │            <span style=\"color: #00af00; text-decoration-color: #00af00\">33</span> │\n",
       "└─────────────────────────────────┴────────────────────────┴───────────────┘\n",
       "</pre>\n"
      ],
      "text/plain": [
       "┏━━━━━━━━━━━━━━━━━━━━━━━━━━━━━━━━━┳━━━━━━━━━━━━━━━━━━━━━━━━┳━━━━━━━━━━━━━━━┓\n",
       "┃\u001b[1m \u001b[0m\u001b[1mLayer (type)                   \u001b[0m\u001b[1m \u001b[0m┃\u001b[1m \u001b[0m\u001b[1mOutput Shape          \u001b[0m\u001b[1m \u001b[0m┃\u001b[1m \u001b[0m\u001b[1m      Param #\u001b[0m\u001b[1m \u001b[0m┃\n",
       "┡━━━━━━━━━━━━━━━━━━━━━━━━━━━━━━━━━╇━━━━━━━━━━━━━━━━━━━━━━━━╇━━━━━━━━━━━━━━━┩\n",
       "│ lstm_10 (\u001b[38;5;33mLSTM\u001b[0m)                  │ (\u001b[38;5;45mNone\u001b[0m, \u001b[38;5;34m14\u001b[0m, \u001b[38;5;34m64\u001b[0m)         │        \u001b[38;5;34m18,176\u001b[0m │\n",
       "├─────────────────────────────────┼────────────────────────┼───────────────┤\n",
       "│ lstm_11 (\u001b[38;5;33mLSTM\u001b[0m)                  │ (\u001b[38;5;45mNone\u001b[0m, \u001b[38;5;34m32\u001b[0m)             │        \u001b[38;5;34m12,416\u001b[0m │\n",
       "├─────────────────────────────────┼────────────────────────┼───────────────┤\n",
       "│ dropout_5 (\u001b[38;5;33mDropout\u001b[0m)             │ (\u001b[38;5;45mNone\u001b[0m, \u001b[38;5;34m32\u001b[0m)             │             \u001b[38;5;34m0\u001b[0m │\n",
       "├─────────────────────────────────┼────────────────────────┼───────────────┤\n",
       "│ dense_5 (\u001b[38;5;33mDense\u001b[0m)                 │ (\u001b[38;5;45mNone\u001b[0m, \u001b[38;5;34m1\u001b[0m)              │            \u001b[38;5;34m33\u001b[0m │\n",
       "└─────────────────────────────────┴────────────────────────┴───────────────┘\n"
      ]
     },
     "metadata": {},
     "output_type": "display_data"
    },
    {
     "data": {
      "text/html": [
       "<pre style=\"white-space:pre;overflow-x:auto;line-height:normal;font-family:Menlo,'DejaVu Sans Mono',consolas,'Courier New',monospace\"><span style=\"font-weight: bold\"> Total params: </span><span style=\"color: #00af00; text-decoration-color: #00af00\">30,625</span> (119.63 KB)\n",
       "</pre>\n"
      ],
      "text/plain": [
       "\u001b[1m Total params: \u001b[0m\u001b[38;5;34m30,625\u001b[0m (119.63 KB)\n"
      ]
     },
     "metadata": {},
     "output_type": "display_data"
    },
    {
     "data": {
      "text/html": [
       "<pre style=\"white-space:pre;overflow-x:auto;line-height:normal;font-family:Menlo,'DejaVu Sans Mono',consolas,'Courier New',monospace\"><span style=\"font-weight: bold\"> Trainable params: </span><span style=\"color: #00af00; text-decoration-color: #00af00\">30,625</span> (119.63 KB)\n",
       "</pre>\n"
      ],
      "text/plain": [
       "\u001b[1m Trainable params: \u001b[0m\u001b[38;5;34m30,625\u001b[0m (119.63 KB)\n"
      ]
     },
     "metadata": {},
     "output_type": "display_data"
    },
    {
     "data": {
      "text/html": [
       "<pre style=\"white-space:pre;overflow-x:auto;line-height:normal;font-family:Menlo,'DejaVu Sans Mono',consolas,'Courier New',monospace\"><span style=\"font-weight: bold\"> Non-trainable params: </span><span style=\"color: #00af00; text-decoration-color: #00af00\">0</span> (0.00 B)\n",
       "</pre>\n"
      ],
      "text/plain": [
       "\u001b[1m Non-trainable params: \u001b[0m\u001b[38;5;34m0\u001b[0m (0.00 B)\n"
      ]
     },
     "metadata": {},
     "output_type": "display_data"
    }
   ],
   "source": [
    "model = Sequential()\n",
    "model.add(LSTM(64, activation='relu', input_shape=(trainX.shape[1], trainX.shape[2]), return_sequences=True))\n",
    "model.add(LSTM(32, activation='relu', return_sequences=False))\n",
    "model.add(Dropout(0.2))\n",
    "model.add(Dense(trainY.shape[1]))\n",
    "\n",
    "model.compile(optimizer='adam', loss='mse')\n",
    "model.summary()"
   ]
  },
  {
   "cell_type": "code",
   "execution_count": 135,
   "id": "72ac2069",
   "metadata": {},
   "outputs": [
    {
     "name": "stdout",
     "output_type": "stream",
     "text": [
      "Epoch 1/10\n"
     ]
    },
    {
     "name": "stdout",
     "output_type": "stream",
     "text": [
      "\u001b[1m9/9\u001b[0m \u001b[32m━━━━━━━━━━━━━━━━━━━━\u001b[0m\u001b[37m\u001b[0m \u001b[1m3s\u001b[0m 57ms/step - loss: 0.4434 - val_loss: 1.7579\n",
      "Epoch 2/10\n",
      "\u001b[1m9/9\u001b[0m \u001b[32m━━━━━━━━━━━━━━━━━━━━\u001b[0m\u001b[37m\u001b[0m \u001b[1m0s\u001b[0m 12ms/step - loss: 0.1452 - val_loss: 0.9203\n",
      "Epoch 3/10\n",
      "\u001b[1m9/9\u001b[0m \u001b[32m━━━━━━━━━━━━━━━━━━━━\u001b[0m\u001b[37m\u001b[0m \u001b[1m0s\u001b[0m 11ms/step - loss: 0.0570 - val_loss: 0.2047\n",
      "Epoch 4/10\n",
      "\u001b[1m9/9\u001b[0m \u001b[32m━━━━━━━━━━━━━━━━━━━━\u001b[0m\u001b[37m\u001b[0m \u001b[1m0s\u001b[0m 13ms/step - loss: 0.0531 - val_loss: 0.1525\n",
      "Epoch 5/10\n",
      "\u001b[1m9/9\u001b[0m \u001b[32m━━━━━━━━━━━━━━━━━━━━\u001b[0m\u001b[37m\u001b[0m \u001b[1m0s\u001b[0m 13ms/step - loss: 0.0430 - val_loss: 0.1933\n",
      "Epoch 6/10\n",
      "\u001b[1m9/9\u001b[0m \u001b[32m━━━━━━━━━━━━━━━━━━━━\u001b[0m\u001b[37m\u001b[0m \u001b[1m0s\u001b[0m 12ms/step - loss: 0.0355 - val_loss: 0.3153\n",
      "Epoch 7/10\n",
      "\u001b[1m9/9\u001b[0m \u001b[32m━━━━━━━━━━━━━━━━━━━━\u001b[0m\u001b[37m\u001b[0m \u001b[1m0s\u001b[0m 12ms/step - loss: 0.0254 - val_loss: 0.3591\n",
      "Epoch 8/10\n",
      "\u001b[1m9/9\u001b[0m \u001b[32m━━━━━━━━━━━━━━━━━━━━\u001b[0m\u001b[37m\u001b[0m \u001b[1m0s\u001b[0m 12ms/step - loss: 0.0286 - val_loss: 0.3629\n",
      "Epoch 9/10\n",
      "\u001b[1m9/9\u001b[0m \u001b[32m━━━━━━━━━━━━━━━━━━━━\u001b[0m\u001b[37m\u001b[0m \u001b[1m0s\u001b[0m 11ms/step - loss: 0.0289 - val_loss: 0.4688\n",
      "Epoch 10/10\n",
      "\u001b[1m9/9\u001b[0m \u001b[32m━━━━━━━━━━━━━━━━━━━━\u001b[0m\u001b[37m\u001b[0m \u001b[1m0s\u001b[0m 10ms/step - loss: 0.0355 - val_loss: 0.4172\n"
     ]
    }
   ],
   "source": [
    "history = model.fit(trainX, trainY, epochs=10,batch_size=19, validation_split=0.3, verbose=1)"
   ]
  },
  {
   "cell_type": "code",
   "execution_count": 136,
   "id": "27ab19ca",
   "metadata": {},
   "outputs": [
    {
     "data": {
      "text/plain": [
       "<matplotlib.legend.Legend at 0x14041838fe0>"
      ]
     },
     "execution_count": 136,
     "metadata": {},
     "output_type": "execute_result"
    },
    {
     "data": {
      "image/png": "[encoded data removed]",
      "text/plain": [
       "<Figure size 640x480 with 1 Axes>"
      ]
     },
     "metadata": {},
     "output_type": "display_data"
    }
   ],
   "source": [
    "plt.plot(history.history['loss'], label='Training Loss')\n",
    "plt.plot(history.history['val_loss'], label='Validation Loss')\n",
    "plt.legend()\n",
    "\n"
   ]
  },
  {
   "cell_type": "code",
   "execution_count": null,
   "id": "3bbb7b7b",
   "metadata": {},
   "outputs": [],
   "source": []
  }
 ],
 "metadata": {
  "kernelspec": {
   "display_name": "gdal",
   "language": "python",
   "name": "python3"
  },
  "language_info": {
   "codemirror_mode": {
    "name": "ipython",
    "version": 3
   },
   "file_extension": ".py",
   "mimetype": "text/x-python",
   "name": "python",
   "nbconvert_exporter": "python",
   "pygments_lexer": "ipython3",
   "version": "3.12.2"
  }
 },
 "nbformat": 4,
 "nbformat_minor": 5
}
